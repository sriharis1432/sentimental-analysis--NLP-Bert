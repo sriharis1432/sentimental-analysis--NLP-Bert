{
 "cells": [
  {
   "cell_type": "code",
   "execution_count": 4,
   "id": "cb9ff3a7",
   "metadata": {},
   "outputs": [],
   "source": [
    "# Install the pytorch, transformers\n",
    "# pip install torch \n",
    "# pip install transformers"
   ]
  },
  {
   "cell_type": "code",
   "execution_count": 5,
   "id": "c5b4db72",
   "metadata": {},
   "outputs": [],
   "source": [
    "# Import the libraries\n",
    "import torch\n",
    "from transformers import BertForSequenceClassification , BertTokenizer"
   ]
  },
  {
   "cell_type": "code",
   "execution_count": 6,
   "id": "2df1905a",
   "metadata": {},
   "outputs": [
    {
     "name": "stderr",
     "output_type": "stream",
     "text": [
      "Some weights of BertForSequenceClassification were not initialized from the model checkpoint at bert-base-uncased and are newly initialized: ['classifier.bias', 'classifier.weight']\n",
      "You should probably TRAIN this model on a down-stream task to be able to use it for predictions and inference.\n"
     ]
    }
   ],
   "source": [
    "# import the data \n",
    "tokenizer = BertTokenizer.from_pretrained('bert-base-uncased')\n",
    "model = BertForSequenceClassification.from_pretrained('bert-base-uncased')"
   ]
  },
  {
   "cell_type": "code",
   "execution_count": 7,
   "id": "e168e40b",
   "metadata": {},
   "outputs": [],
   "source": [
    "sentences = [\"I love this movie\",\" This is a great product\", \"I don't like this song\"]\n",
    "labels = [1,  1,  0]  # 1 for positive , 0 for negetive"
   ]
  },
  {
   "cell_type": "code",
   "execution_count": 19,
   "id": "00150f4e",
   "metadata": {},
   "outputs": [
    {
     "name": "stderr",
     "output_type": "stream",
     "text": [
      "C:\\Users\\SrihariS\\AppData\\Local\\Temp\\ipykernel_7596\\1399791916.py:3: UserWarning: To copy construct from a tensor, it is recommended to use sourceTensor.clone().detach() or sourceTensor.clone().detach().requires_grad_(True), rather than torch.tensor(sourceTensor).\n",
      "  labels=torch.tensor(labels)\n"
     ]
    }
   ],
   "source": [
    "# tokenize the input data to convert into tenser\n",
    "inputs=tokenizer(sentences,padding=True,truncation=True,return_tensors='pt')\n",
    "labels=torch.tensor(labels)"
   ]
  },
  {
   "cell_type": "code",
   "execution_count": 20,
   "id": "6acfdb08",
   "metadata": {},
   "outputs": [],
   "source": [
    "# optimization\n",
    "optimize = torch.optim.Adam(model.parameters(),lr=0.0005,weight_decay=0.01)"
   ]
  },
  {
   "cell_type": "code",
   "execution_count": 21,
   "id": "4fbf24f3",
   "metadata": {},
   "outputs": [
    {
     "name": "stdout",
     "output_type": "stream",
     "text": [
      "Epoch 1, Batch Loss: 0.2255355715751648\n",
      "Epoch 2, Batch Loss: 0.024210138246417046\n",
      "Epoch 3, Batch Loss: 0.005990284960716963\n"
     ]
    }
   ],
   "source": [
    "# train the loop\n",
    "for epoch in range(3):\n",
    "    model.train()\n",
    "    optimize.zero_grad()\n",
    "    outputs=model(**inputs,labels=labels)\n",
    "    loss = outputs.loss\n",
    "    loss.backward()\n",
    "    optimize.step()\n",
    "    print(f\"Epoch {epoch+1}, Batch Loss: {loss.item()}\")\n"
   ]
  },
  {
   "cell_type": "code",
   "execution_count": 22,
   "id": "8f885859",
   "metadata": {},
   "outputs": [
    {
     "name": "stdout",
     "output_type": "stream",
     "text": [
      "Sentiment: Positive\n"
     ]
    }
   ],
   "source": [
    "new_sentence = \"i like song\"\n",
    "inputs = tokenizer(new_sentence, padding=True, truncation=True, return_tensors=\"pt\")\n",
    "with torch.no_grad():\n",
    "    outputs = model(**inputs)\n",
    "    predictions = torch.argmax(outputs.logits, dim=1)\n",
    "    print(\"Sentiment:\", \"Positive\" if predictions[0] == 1  else \"Negative\")\n"
   ]
  },
  {
   "cell_type": "code",
   "execution_count": 23,
   "id": "e5983250",
   "metadata": {},
   "outputs": [
    {
     "name": "stdout",
     "output_type": "stream",
     "text": [
      "Sentiment: Negative\n"
     ]
    }
   ],
   "source": [
    "new_sentence = \"I don't like film\"\n",
    "inputs = tokenizer(new_sentence, padding=True, truncation=True, return_tensors=\"pt\")\n",
    "with torch.no_grad():\n",
    "    outputs = model(**inputs)\n",
    "    predictions = torch.argmax(outputs.logits, dim=1)\n",
    "    print(\"Sentiment:\", \"Positive\" if predictions[0] == 1  else \"Negative\")\n"
   ]
  }
 ],
 "metadata": {
  "kernelspec": {
   "display_name": "Python 3 (ipykernel)",
   "language": "python",
   "name": "python3"
  },
  "language_info": {
   "codemirror_mode": {
    "name": "ipython",
    "version": 3
   },
   "file_extension": ".py",
   "mimetype": "text/x-python",
   "name": "python",
   "nbconvert_exporter": "python",
   "pygments_lexer": "ipython3",
   "version": "3.11.5"
  }
 },
 "nbformat": 4,
 "nbformat_minor": 5
}
